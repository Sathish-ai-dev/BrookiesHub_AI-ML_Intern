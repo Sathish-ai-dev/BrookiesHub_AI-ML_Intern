{
 "cells": [
  {
   "cell_type": "code",
   "execution_count": 1,
   "id": "a21eb09d",
   "metadata": {},
   "outputs": [],
   "source": [
    "import pandas as pd\n",
    "import numpy as np\n",
    "from sklearn.metrics.pairwise import cosine_similarity"
   ]
  },
  {
   "cell_type": "code",
   "execution_count": 2,
   "id": "f1a51303",
   "metadata": {},
   "outputs": [],
   "source": [
    "ratings = pd.read_csv(\"Dataset/ratings.csv\")  \n",
    "movies = pd.read_csv(\"Dataset/movies.csv\") "
   ]
  },
  {
   "cell_type": "code",
   "execution_count": 3,
   "id": "0814908c",
   "metadata": {},
   "outputs": [
    {
     "name": "stdout",
     "output_type": "stream",
     "text": [
      "Ratings:\n",
      "    userId  movieId  rating  timestamp\n",
      "0       1        1     4.0  964982703\n",
      "1       1        3     4.0  964981247\n",
      "2       1        6     4.0  964982224\n",
      "3       1       47     5.0  964983815\n",
      "4       1       50     5.0  964982931\n",
      "\n",
      "Movies:\n",
      "    movieId                               title  \\\n",
      "0        1                    Toy Story (1995)   \n",
      "1        2                      Jumanji (1995)   \n",
      "2        3             Grumpier Old Men (1995)   \n",
      "3        4            Waiting to Exhale (1995)   \n",
      "4        5  Father of the Bride Part II (1995)   \n",
      "\n",
      "                                        genres  \n",
      "0  Adventure|Animation|Children|Comedy|Fantasy  \n",
      "1                   Adventure|Children|Fantasy  \n",
      "2                               Comedy|Romance  \n",
      "3                         Comedy|Drama|Romance  \n",
      "4                                       Comedy  \n"
     ]
    }
   ],
   "source": [
    "print(\"Ratings:\\n\", ratings.head())\n",
    "print(\"\\nMovies:\\n\", movies.head())"
   ]
  },
  {
   "cell_type": "code",
   "execution_count": 4,
   "id": "a812c9a2",
   "metadata": {},
   "outputs": [
    {
     "name": "stdout",
     "output_type": "stream",
     "text": [
      "\n",
      "Merged Data:\n",
      "    userId  movieId  rating  timestamp                        title  \\\n",
      "0       1        1     4.0  964982703             Toy Story (1995)   \n",
      "1       1        3     4.0  964981247      Grumpier Old Men (1995)   \n",
      "2       1        6     4.0  964982224                  Heat (1995)   \n",
      "3       1       47     5.0  964983815  Seven (a.k.a. Se7en) (1995)   \n",
      "4       1       50     5.0  964982931   Usual Suspects, The (1995)   \n",
      "\n",
      "                                        genres  \n",
      "0  Adventure|Animation|Children|Comedy|Fantasy  \n",
      "1                               Comedy|Romance  \n",
      "2                        Action|Crime|Thriller  \n",
      "3                             Mystery|Thriller  \n",
      "4                       Crime|Mystery|Thriller  \n"
     ]
    }
   ],
   "source": [
    "data = pd.merge(ratings, movies, on=\"movieId\")\n",
    "print(\"\\nMerged Data:\\n\", data.head())"
   ]
  },
  {
   "cell_type": "code",
   "execution_count": 5,
   "id": "2a1d610d",
   "metadata": {},
   "outputs": [
    {
     "name": "stdout",
     "output_type": "stream",
     "text": [
      "\n",
      "User-Item Matrix Shape: (610, 9719)\n"
     ]
    }
   ],
   "source": [
    "user_item_matrix = data.pivot_table(index=\"userId\", columns=\"title\", values=\"rating\").fillna(0)\n",
    "print(\"\\nUser-Item Matrix Shape:\", user_item_matrix.shape)"
   ]
  },
  {
   "cell_type": "code",
   "execution_count": 6,
   "id": "264b7c8e",
   "metadata": {},
   "outputs": [
    {
     "name": "stdout",
     "output_type": "stream",
     "text": [
      "\n",
      "User Similarity Matrix:\n",
      " userId       1         2         3         4         5         6         7    \\\n",
      "userId                                                                         \n",
      "1       1.000000  0.027283  0.059720  0.194395  0.129080  0.128152  0.158744   \n",
      "2       0.027283  1.000000  0.000000  0.003726  0.016614  0.025333  0.027585   \n",
      "3       0.059720  0.000000  1.000000  0.002251  0.005020  0.003936  0.000000   \n",
      "4       0.194395  0.003726  0.002251  1.000000  0.128659  0.088491  0.115120   \n",
      "5       0.129080  0.016614  0.005020  0.128659  1.000000  0.300349  0.108342   \n",
      "\n",
      "userId       8         9         10   ...       601       602       603  \\\n",
      "userId                                ...                                 \n",
      "1       0.136968  0.064263  0.016875  ...  0.080554  0.164455  0.221486   \n",
      "2       0.027257  0.000000  0.067445  ...  0.202671  0.016866  0.011997   \n",
      "3       0.004941  0.000000  0.000000  ...  0.005048  0.004892  0.024992   \n",
      "4       0.062969  0.011361  0.031163  ...  0.085938  0.128273  0.307973   \n",
      "5       0.429075  0.000000  0.030611  ...  0.068048  0.418747  0.110148   \n",
      "\n",
      "userId       604       605       606       607       608       609       610  \n",
      "userId                                                                        \n",
      "1       0.070669  0.153625  0.164191  0.269389  0.291097  0.093572  0.145321  \n",
      "2       0.000000  0.000000  0.028429  0.012948  0.046211  0.027565  0.102427  \n",
      "3       0.000000  0.010694  0.012993  0.019247  0.021128  0.000000  0.032119  \n",
      "4       0.052985  0.084584  0.200395  0.131746  0.149858  0.032198  0.107683  \n",
      "5       0.258773  0.148758  0.106435  0.152866  0.135535  0.261232  0.060792  \n",
      "\n",
      "[5 rows x 610 columns]\n"
     ]
    }
   ],
   "source": [
    "similarity_matrix = cosine_similarity(user_item_matrix)\n",
    "similarity_df = pd.DataFrame(similarity_matrix, index=user_item_matrix.index, columns=user_item_matrix.index)\n",
    "print(\"\\nUser Similarity Matrix:\\n\", similarity_df.head())"
   ]
  },
  {
   "cell_type": "code",
   "execution_count": 7,
   "id": "c140b40d",
   "metadata": {},
   "outputs": [],
   "source": [
    "def recommend_movies(user_id, top_n=5):\n",
    "    similar_users = similarity_df[user_id].sort_values(ascending=False)\n",
    "    similar_users = similar_users.drop(user_id)\n",
    "    most_similar_user = similar_users.index[0]\n",
    "    user_movies = set(data[data[\"userId\"]==user_id][\"title\"])\n",
    "    similar_user_movies = data[(data[\"userId\"]==most_similar_user) & (data[\"rating\"]>=4)][\"title\"]\n",
    "    recommendations = [m for m in similar_user_movies if m not in user_movies]\n",
    "    return recommendations[:top_n]"
   ]
  },
  {
   "cell_type": "code",
   "execution_count": 8,
   "id": "1f45430d",
   "metadata": {},
   "outputs": [
    {
     "name": "stdout",
     "output_type": "stream",
     "text": [
      "\n",
      "Recommended Movies for User 10:\n",
      "['Toy Story (1995)', 'Apollo 13 (1995)', 'Shawshank Redemption, The (1994)', 'Ghost (1990)', 'Princess Bride, The (1987)']\n"
     ]
    }
   ],
   "source": [
    "print(\"\\nRecommended Movies for User 10:\")\n",
    "print(recommend_movies(10, top_n=5))"
   ]
  },
  {
   "cell_type": "code",
   "execution_count": null,
   "id": "858d5198",
   "metadata": {},
   "outputs": [],
   "source": []
  }
 ],
 "metadata": {
  "kernelspec": {
   "display_name": "Python 3",
   "language": "python",
   "name": "python3"
  },
  "language_info": {
   "codemirror_mode": {
    "name": "ipython",
    "version": 3
   },
   "file_extension": ".py",
   "mimetype": "text/x-python",
   "name": "python",
   "nbconvert_exporter": "python",
   "pygments_lexer": "ipython3",
   "version": "3.10.11"
  }
 },
 "nbformat": 4,
 "nbformat_minor": 5
}
